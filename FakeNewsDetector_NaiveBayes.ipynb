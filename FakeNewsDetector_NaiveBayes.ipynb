{
  "nbformat": 4,
  "nbformat_minor": 0,
  "metadata": {
    "colab": {
      "provenance": []
    },
    "kernelspec": {
      "name": "python3",
      "display_name": "Python 3"
    },
    "language_info": {
      "name": "python"
    }
  },
  "cells": [
    {
      "cell_type": "markdown",
      "source": [
        "# Fake News Detector using Machine Learning\n",
        "\n",
        "This project uses NLP and machine learning to classify news articles as **real** or **fake**.\n",
        "\n",
        "I experimented with **Logistic Regression** and **Naive Bayes**, and found Naive Bayes to perform better on unseen text. The dataset includes both fake and real news headlines and articles.\n",
        "\n",
        "---"
      ],
      "metadata": {
        "id": "8jTmegkLoYps"
      }
    },
    {
      "cell_type": "markdown",
      "source": [
        "## Step 1: Import Libraries & Load Data"
      ],
      "metadata": {
        "id": "iPG32GRoopq-"
      }
    },
    {
      "cell_type": "code",
      "execution_count": 3,
      "metadata": {
        "colab": {
          "base_uri": "https://localhost:8080/",
          "height": 1000
        },
        "id": "JltejsoHoETk",
        "outputId": "54ac9e68-fa6e-4da0-c38b-26c075e07fd3"
      },
      "outputs": [
        {
          "output_type": "stream",
          "name": "stdout",
          "text": [
            "🔹 First 5 rows of data:\n",
            "                                               title  \\\n",
            "0  U.S. Senate panel approves controversial EPA n...   \n",
            "1  Pope urges EU to rediscover unity if it wants ...   \n",
            "2  After financial pledges, France urges Chad to ...   \n",
            "3        Tunisian navy rescues 78 migrants off coast   \n",
            "4  80 YEAR OLD MAN Writes MUST READ Letter To RNC...   \n",
            "\n",
            "                                                text       subject  \\\n",
            "0  WASHINGTON (Reuters) - The Senate Environment ...  politicsNews   \n",
            "1  VATICAN CITY (Reuters) - Pope Francis, in a ma...     worldnews   \n",
            "2  PARIS (Reuters) - France on Monday urged Chadi...     worldnews   \n",
            "3  TUNIS (Reuters) - Tunisia s navy rescued 78 mi...     worldnews   \n",
            "4  This letter was sent to 100% FED Up! by an ano...      politics   \n",
            "\n",
            "                  date  label  \n",
            "0    October 25, 2017       1  \n",
            "1    October 28, 2017       1  \n",
            "2  September 11, 2017       1  \n",
            "3  September 22, 2017       1  \n",
            "4         Apr 13, 2016      0  \n",
            "\n",
            "🔹 Data Info:\n",
            "<class 'pandas.core.frame.DataFrame'>\n",
            "RangeIndex: 44898 entries, 0 to 44897\n",
            "Data columns (total 5 columns):\n",
            " #   Column   Non-Null Count  Dtype \n",
            "---  ------   --------------  ----- \n",
            " 0   title    44898 non-null  object\n",
            " 1   text     44898 non-null  object\n",
            " 2   subject  44898 non-null  object\n",
            " 3   date     44898 non-null  object\n",
            " 4   label    44898 non-null  int64 \n",
            "dtypes: int64(1), object(4)\n",
            "memory usage: 1.7+ MB\n",
            "None\n",
            "\n",
            "🔹 Missing values per column:\n",
            "title      0\n",
            "text       0\n",
            "subject    0\n",
            "date       0\n",
            "label      0\n",
            "dtype: int64\n"
          ]
        },
        {
          "output_type": "display_data",
          "data": {
            "text/plain": [
              "<Figure size 600x400 with 1 Axes>"
            ],
            "image/png": "[encoded data removed]"
          },
          "metadata": {}
        }
      ],
      "source": [
        "import pandas as pd\n",
        "import numpy as np\n",
        "import matplotlib.pyplot as plt\n",
        "import seaborn as sns\n",
        "\n",
        "# Load datasets\n",
        "fake = pd.read_csv(\"Fake.csv\")\n",
        "real = pd.read_csv(\"True.csv\")\n",
        "\n",
        "# Add labels\n",
        "fake['label'] = 0\n",
        "real['label'] = 1\n",
        "\n",
        "# Combine and shuffle\n",
        "data = pd.concat([fake, real], ignore_index=True)\n",
        "data = data.sample(frac=1).reset_index(drop=True)\n",
        "\n",
        "# Explore\n",
        "print(\"🔹 First 5 rows of data:\")\n",
        "print(data.head())\n",
        "\n",
        "print(\"\\n🔹 Data Info:\")\n",
        "print(data.info())\n",
        "\n",
        "print(\"\\n🔹 Missing values per column:\")\n",
        "print(data.isnull().sum())\n",
        "\n",
        "# Plot distribution\n",
        "plt.figure(figsize=(6,4))\n",
        "sns.countplot(x='label', data=data)\n",
        "plt.xticks([0, 1], ['Fake', 'Real'])\n",
        "plt.title(\"Fake vs Real News Count\")\n",
        "plt.show()\n"
      ]
    },
    {
      "cell_type": "markdown",
      "source": [
        "##  Step 2: Text Cleaning & Preprocessing\n",
        "We’ll lowercase the text, remove punctuation, digits, and stopwords, and apply stemming.\n"
      ],
      "metadata": {
        "id": "iH1o5wW4otlV"
      }
    },
    {
      "cell_type": "code",
      "source": [
        "import re\n",
        "import string\n",
        "import nltk\n",
        "from nltk.corpus import stopwords\n",
        "from nltk.stem import PorterStemmer\n",
        "\n",
        "nltk.download('stopwords')\n",
        "stop_words = set(stopwords.words('english'))\n",
        "stemmer = PorterStemmer()\n",
        "\n",
        "def clean_text(text):\n",
        "    text = text.lower()\n",
        "    text = text.translate(str.maketrans('', '', string.punctuation))\n",
        "    text = re.sub(r'\\d+', '', text)\n",
        "    words = text.split()\n",
        "    words = [stemmer.stem(word) for word in words if word not in stop_words]\n",
        "    return ' '.join(words)\n",
        "\n",
        "# Apply\n",
        "data['clean_text'] = data['text'].apply(clean_text)\n",
        "\n",
        "# Preview\n",
        "print(\"🔹 Original Text:\\n\", data['text'].iloc[0][:300])\n",
        "print(\"\\n🔹 Cleaned Text:\\n\", data['clean_text'].iloc[0][:300])\n"
      ],
      "metadata": {
        "colab": {
          "base_uri": "https://localhost:8080/"
        },
        "id": "PPSUnlYkow4g",
        "outputId": "bf873ef8-fa3c-41f7-8642-bd8fb3fb083e"
      },
      "execution_count": 4,
      "outputs": [
        {
          "output_type": "stream",
          "name": "stderr",
          "text": [
            "[nltk_data] Downloading package stopwords to /root/nltk_data...\n",
            "[nltk_data]   Unzipping corpora/stopwords.zip.\n"
          ]
        },
        {
          "output_type": "stream",
          "name": "stdout",
          "text": [
            "🔹 Original Text:\n",
            " WASHINGTON (Reuters) - The Senate Environment and Public Works Committee on Wednesday approved four nominees to key posts at the Environmental Protection Agency, including one appointee with ties to the chemical industry who will head the agency’s office of chemical safety. Senator Tom Carper, the t\n",
            "\n",
            "🔹 Cleaned Text:\n",
            " washington reuter senat environ public work committe wednesday approv four nomine key post environment protect agenc includ one appointe tie chemic industri head agency’ offic chemic safeti senat tom carper top democrat committe said two nomine “grave concern” bill wehrum nomin assist administr offi\n"
          ]
        }
      ]
    },
    {
      "cell_type": "markdown",
      "source": [
        "## Step 3: Vectorization using TF-IDF\n",
        "We’ll convert the cleaned text into numerical form using TF-IDF vectorizer.\n"
      ],
      "metadata": {
        "id": "vzYMBeCMo0d-"
      }
    },
    {
      "cell_type": "code",
      "source": [
        "from sklearn.feature_extraction.text import TfidfVectorizer\n",
        "from sklearn.model_selection import train_test_split\n",
        "\n",
        "vectorizer = TfidfVectorizer(max_features=5000)\n",
        "X = vectorizer.fit_transform(data['clean_text'])\n",
        "y = data['label']\n",
        "\n",
        "X_train, X_test, y_train, y_test = train_test_split(X, y, test_size=0.2, random_state=42)\n"
      ],
      "metadata": {
        "id": "ZiZKOxkNozxL"
      },
      "execution_count": 5,
      "outputs": []
    },
    {
      "cell_type": "markdown",
      "source": [
        "##  Step 4: Model Training – Naive Bayes (Final Model)\n",
        "\n",
        "Logistic Regression was also tested, but Naive Bayes gave better results on real-world inputs, so it was used as the final model.\n"
      ],
      "metadata": {
        "id": "6WqpwORwo-Wh"
      }
    },
    {
      "cell_type": "code",
      "source": [
        "from sklearn.naive_bayes import MultinomialNB\n",
        "from sklearn.metrics import accuracy_score, classification_report, confusion_matrix\n",
        "\n",
        "# Train Naive Bayes\n",
        "nb_model = MultinomialNB()\n",
        "nb_model.fit(X_train, y_train)\n",
        "\n",
        "# Evaluate\n",
        "nb_pred = nb_model.predict(X_test)\n",
        "print(\" Naive Bayes Accuracy:\", accuracy_score(y_test, nb_pred))\n",
        "print(\"\\n Classification Report:\")\n",
        "print(classification_report(y_test, nb_pred))\n",
        "print(\"\\n Confusion Matrix:\")\n",
        "print(confusion_matrix(y_test, nb_pred))\n"
      ],
      "metadata": {
        "colab": {
          "base_uri": "https://localhost:8080/"
        },
        "id": "m9kvU0Eco_V7",
        "outputId": "a9cfff68-8c49-4a4a-b43b-b66b423d1c6d"
      },
      "execution_count": 6,
      "outputs": [
        {
          "output_type": "stream",
          "name": "stdout",
          "text": [
            " Naive Bayes Accuracy: 0.9405345211581292\n",
            "\n",
            " Classification Report:\n",
            "              precision    recall  f1-score   support\n",
            "\n",
            "           0       0.95      0.94      0.94      4766\n",
            "           1       0.93      0.94      0.94      4214\n",
            "\n",
            "    accuracy                           0.94      8980\n",
            "   macro avg       0.94      0.94      0.94      8980\n",
            "weighted avg       0.94      0.94      0.94      8980\n",
            "\n",
            "\n",
            " Confusion Matrix:\n",
            "[[4475  291]\n",
            " [ 243 3971]]\n"
          ]
        }
      ]
    },
    {
      "cell_type": "markdown",
      "source": [
        "## 🔍 Step 5: Make Predictions on New Text\n",
        "You can now test the model on custom news articles.\n"
      ],
      "metadata": {
        "id": "ALicC9KLpHoA"
      }
    },
    {
      "cell_type": "code",
      "source": [
        "def predict_news(text_input):\n",
        "    cleaned = clean_text(text_input)\n",
        "    vector = vectorizer.transform([cleaned])\n",
        "    prediction = nb_model.predict(vector)[0]\n",
        "    return \"📰 Real News\" if prediction == 1 else \"🚨 Fake News\"\n",
        "\n",
        "# Test example\n",
        "test_news = \"\"\"In a press briefing held at the National Press Club, the finance minister\n",
        "announced a 12% increase in education budget for the fiscal year 2025.\"\"\"\n",
        "print(\"Prediction:\", predict_news(test_news))\n"
      ],
      "metadata": {
        "colab": {
          "base_uri": "https://localhost:8080/"
        },
        "id": "uCPtcEKgpCOF",
        "outputId": "bbeb67dc-e6a6-4c3b-8579-a4c52a4ed8b6"
      },
      "execution_count": 7,
      "outputs": [
        {
          "output_type": "stream",
          "name": "stdout",
          "text": [
            "Prediction: 📰 Real News\n"
          ]
        }
      ]
    },
    {
      "cell_type": "code",
      "source": [],
      "metadata": {
        "id": "G4i_fr8ApFOm"
      },
      "execution_count": null,
      "outputs": []
    }
  ]
}